{
 "cells": [
  {
   "cell_type": "code",
   "execution_count": 3,
   "metadata": {},
   "outputs": [],
   "source": [
    "import os\n",
    "from re import S\n",
    "import numpy as np\n",
    "import torch\n",
    "import torch.nn as nn\n",
    "from torch import Tensor\n",
    "import librosa\n",
    "import yaml\n",
    "\n",
    "from model import RawNet\n",
    "\n"
   ]
  },
  {
   "cell_type": "code",
   "execution_count": 4,
   "metadata": {},
   "outputs": [
    {
     "data": {
      "text/plain": [
       "<All keys matched successfully>"
      ]
     },
     "execution_count": 4,
     "metadata": {},
     "output_type": "execute_result"
    }
   ],
   "source": [
    "config_path = \"model_config_RawNet.yaml\"\n",
    "model_path = \"models/model_LA_CCE_100_64_0.0001/epoch_71.pth\"\n",
    "device = 'cpu' \n",
    "with open(config_path, 'r') as f_yaml:\n",
    "    parser1 = yaml.safe_load(f_yaml)\n",
    "\n",
    "model = RawNet(parser1['model'], device).to(device)\n",
    "model.load_state_dict(torch.load(model_path,map_location=device))"
   ]
  },
  {
   "cell_type": "code",
   "execution_count": 5,
   "metadata": {},
   "outputs": [],
   "source": [
    "def pad(x, max_len=64600):\n",
    "    x_len = x.shape[0]\n",
    "    if x_len >= max_len:\n",
    "        return x[:max_len]\n",
    "    # need to pad\n",
    "    num_repeats = int(max_len / x_len)+1\n",
    "    padded_x = np.tile(x, (1, num_repeats))[:, :max_len][0]\n",
    "    return padded_x\n",
    "\n",
    "def parse_input(file_path):\n",
    "    cut = 64600  # take ~4 sec audio (64600 samples)\n",
    "    X, fs = librosa.load(file_path, sr=16000)\n",
    "    X_pad = pad(X, cut)\n",
    "    x_inp = Tensor(X_pad)\n",
    "    return x_inp.unsqueeze(0).to(device)"
   ]
  },
  {
   "cell_type": "code",
   "execution_count": 6,
   "metadata": {},
   "outputs": [
    {
     "name": "stdout",
     "output_type": "stream",
     "text": [
      "spoof\n"
     ]
    }
   ],
   "source": [
    "model.eval()\n",
    "# Load the audio file that we need to check whether it is fake voice or not.\n",
    "wav = \"/root/dataset/Dataset/ASVspoof/LA/ASVspoof2019_LA_eval/flac/LA_E_5085671.flac\"\n",
    "# wav = \"/root/dataset/ASVspoof/ASVspoof2021_LA_eval/flac/LA_E_5464494.flac\"\n",
    "# wav = \"/root/dataset/ASVspoof/ASVspoof2021_LA_eval/flac/LA_E_2925019.flac\"\n",
    "\n",
    "# wav = \"/root/dataset/Speech/AIHub_Studio/wavs/01FHSH0028/01FHSH0028_00122.wav\"\n",
    "\n",
    "# wav = \"/root/biological/asvspoof2021/LA/Baseline-RawNet2-bio/Demo/prof_16k.flac\"\n",
    "\n",
    "# Extract the feature of the audio\n",
    "\n",
    "x_inp = parse_input(wav)\n",
    "\n",
    "# use the model to calculate the prediction value\n",
    "# out, _ = model(x_inp)\n",
    "out, _ = model(x_inp)\n",
    "\n",
    "# out = [0.123345135,-0.1234145124]\n",
    "\n",
    "# Convert into readable format\n",
    "_, pred = out.max(dim=1)\n",
    "if pred:\n",
    "    print(\"bonafide\") #real voice\n",
    "else:\n",
    "    print(\"spoof\") #fake voice"
   ]
  },
  {
   "cell_type": "markdown",
   "metadata": {},
   "source": [
    "# Android Conversion"
   ]
  },
  {
   "cell_type": "code",
   "execution_count": 7,
   "metadata": {},
   "outputs": [],
   "source": [
    "import torch\n",
    "from torch import Tensor\n",
    "from torch.utils.mobile_optimizer import optimize_for_mobile\n"
   ]
  },
  {
   "cell_type": "code",
   "execution_count": 8,
   "metadata": {},
   "outputs": [],
   "source": [
    "class BTSDetect(torch.nn.Module):\n",
    "    def __init__(self, model):\n",
    "        super().__init__()\n",
    "        self.model = model\n",
    "    \n",
    "    def forward(self, wavforms: Tensor):\n",
    "        logits, _ = self.model(wavforms)\n",
    "        _, pred = logits.max(dim=1)\n",
    "        if pred:\n",
    "            return 0 # bonafide\n",
    "        else:\n",
    "            return 1 # fake\n",
    "\n",
    "model = BTSDetect(model)\n"
   ]
  },
  {
   "cell_type": "code",
   "execution_count": 9,
   "metadata": {},
   "outputs": [
    {
     "name": "stdout",
     "output_type": "stream",
     "text": [
      "Result: 1\n"
     ]
    }
   ],
   "source": [
    "# # Apply quantization / script / optimize for motbile\n",
    "\n",
    "quantized_model = torch.quantization.quantize_dynamic(\n",
    "    model, qconfig_spec={torch.nn.Linear}, dtype=torch.qint8)\n",
    "scripted_model = torch.jit.script(quantized_model)\n",
    "optimized_model = optimize_for_mobile(scripted_model)\n",
    "\n",
    "\n",
    "# Sanity check\n",
    "\n",
    "print('Result:', optimized_model(x_inp))\n",
    "optimized_model._save_for_lite_interpreter(\"btsdetect.ptl\")"
   ]
  },
  {
   "cell_type": "code",
   "execution_count": null,
   "metadata": {},
   "outputs": [],
   "source": []
  }
 ],
 "metadata": {
  "kernelspec": {
   "display_name": "Python 3",
   "language": "python",
   "name": "python3"
  },
  "language_info": {
   "codemirror_mode": {
    "name": "ipython",
    "version": 3
   },
   "file_extension": ".py",
   "mimetype": "text/x-python",
   "name": "python",
   "nbconvert_exporter": "python",
   "pygments_lexer": "ipython3",
   "version": "3.6.8"
  }
 },
 "nbformat": 4,
 "nbformat_minor": 4
}
